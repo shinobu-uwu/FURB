{
 "cells": [
  {
   "cell_type": "code",
   "execution_count": null,
   "outputs": [],
   "source": [
    "import pandas as pd\n",
    "import numpy as np\n",
    "import matplotlib.pyplot as plt\n",
    "\n",
    "# Questão 1 (A)\n",
    "dados_cont = np.array([1_280, 5_320, 4_390, 2_100, 1_240, 3_060, 4_770, 1_050, 1_320, 360, 3_330, 3_380, 530, 3_350,\n",
    "                       960, 1_120, 2_120, 3_150, 5_700, 5_220, 2_700, 2_730, 1_670, 510, 240, 340, 1_000, 960,\n",
    "                       540, 3_870, 1_250, 2_400, 450, 2_250, 2_320, 2_400, 500, 1_850, 2_460, 5_850, 100, 5_770, 3_150,\n",
    "                       1_890, 396, 1_419, 2_109])\n",
    "\n",
    "dados = pd.DataFrame.from_dict({'Comprimento total das ruas dentro de uma subdivisão': dados_cont})\n",
    "plt.hist(dados)\n",
    "plt.show()"
   ],
   "metadata": {
    "collapsed": false,
    "pycharm": {
     "name": "#%%\n"
    }
   }
  },
  {
   "cell_type": "code",
   "execution_count": null,
   "outputs": [],
   "source": [
    "# Questão 1 (B)\n",
    "print(f\"Média: {dados.mean()[0]}\")\n",
    "print(f\"Mediana {dados.median()[0]}\")\n",
    "print(f\"Primeiro quartil: {np.percentile(dados_cont, 25)}\")\n",
    "print(f\"Segundo quartil: {np.percentile(dados_cont, 50)}\")\n",
    "print(f\"Terceiro quartil: {np.percentile(dados_cont, 75)}\")"
   ],
   "metadata": {
    "collapsed": false,
    "pycharm": {
     "name": "#%%\n"
    }
   }
  },
  {
   "cell_type": "code",
   "execution_count": null,
   "outputs": [],
   "source": [
    "# Questão 1 (C)\n",
    "plt.boxplot(dados)\n",
    "plt.show()"
   ],
   "metadata": {
    "collapsed": false,
    "pycharm": {
     "name": "#%%\n",
     "is_executing": true
    }
   }
  },
  {
   "cell_type": "code",
   "execution_count": null,
   "outputs": [],
   "source": [
    "# Questão 1 (D)\n",
    "print(f\"Amplitude total: {(dados.max() - dados.min())[0]}\")\n",
    "print(f\"Variância: {np.var(dados_cont)}\")\n",
    "print(f\"Desvio padrão: {dados.std()[0]}\")\n",
    "print(f\"Coeficiente de covariância: {(dados.std() / dados.mean())[0] * 100}%\")\n",
    "\n",
    "# As medidas são de alta dispersão"
   ],
   "metadata": {
    "collapsed": false,
    "pycharm": {
     "name": "#%%\n"
    }
   }
  },
  {
   "cell_type": "code",
   "execution_count": null,
   "outputs": [],
   "source": [
    "# Questão 2 (A)\n",
    "dados_cont = np.array(\n",
    "    ['A', 'B', 'D', 'A', 'A', 'F', 'C', 'A', 'C', 'B', 'E', 'B', 'A', 'C', 'F', 'D', 'B', 'C', 'D', 'A', 'A',\n",
    "     'C', 'B', 'E', 'B', 'C', 'E', 'A', 'B', 'A', 'A', 'A', 'B', 'C', 'C', 'D', 'F', 'D', 'B', 'B', 'A', 'F',\n",
    "     'C', 'B', 'A', 'C', 'B', 'E', 'E', 'D', 'A', 'B', 'C', 'E', 'A', 'A', 'F', 'C', 'B', 'D', 'D', 'D', 'B',\n",
    "     'D', 'C', 'A', 'F', 'A', 'A', 'B', 'D', 'E', 'A', 'E', 'D', 'B', 'C', 'A', 'F', 'A', 'C', 'D', 'D', 'A',\n",
    "     'A', 'B', 'A', 'F', 'D', 'C', 'A', 'C', 'B', 'F', 'D', 'A', 'E', 'A', 'C', 'D'])\n",
    "dados = pd.DataFrame.from_dict({'dados': dados_cont})\n",
    "frequencia_absoluta = dados.value_counts()\n",
    "frequencia_relativa = dados.value_counts(normalize=True) * 100\n",
    "print(frequencia_absoluta)\n",
    "print(frequencia_relativa)"
   ],
   "metadata": {
    "collapsed": false,
    "pycharm": {
     "name": "#%%\n"
    }
   }
  },
  {
   "cell_type": "code",
   "execution_count": null,
   "outputs": [],
   "source": [
    "# Questão 2 (B)\n",
    "labels, counts = np.unique(dados_cont, return_counts=True)\n",
    "ticks = range(len(counts))\n",
    "plt.bar(ticks, counts, align='center')\n",
    "plt.xticks(ticks, labels)\n",
    "plt.show()\n",
    "\n",
    "plt.pie(frequencia_relativa, labels=['A', 'B', 'C', 'D', 'E', 'F'])\n",
    "plt.show()"
   ],
   "metadata": {
    "collapsed": false,
    "pycharm": {
     "name": "#%%\n"
    }
   }
  },
  {
   "cell_type": "code",
   "execution_count": null,
   "outputs": [],
   "source": [
    "# Questão 2 (C)\n",
    "print(\"O acidente com maior frequência é o acidente A, enquanto o com menor frequência são os acidentes E e F.\")"
   ],
   "metadata": {
    "collapsed": false,
    "pycharm": {
     "name": "#%%\n"
    }
   }
  },
  {
   "cell_type": "code",
   "execution_count": 32,
   "outputs": [
    {
     "ename": "AttributeError",
     "evalue": "'RangeIndex' object has no attribute 'freq'",
     "output_type": "error",
     "traceback": [
      "\u001B[0;31m---------------------------------------------------------------------------\u001B[0m",
      "\u001B[0;31mAttributeError\u001B[0m                            Traceback (most recent call last)",
      "Cell \u001B[0;32mIn [32], line 7\u001B[0m\n\u001B[1;32m      2\u001B[0m dados_cont \u001B[38;5;241m=\u001B[39m {\n\u001B[1;32m      3\u001B[0m     \u001B[38;5;124m'\u001B[39m\u001B[38;5;124mA\u001B[39m\u001B[38;5;124m'\u001B[39m: [\u001B[38;5;241m6\u001B[39m, \u001B[38;5;241m14\u001B[39m, \u001B[38;5;241m23\u001B[39m, \u001B[38;5;241m24\u001B[39m, \u001B[38;5;241m6\u001B[39m, \u001B[38;5;241m26\u001B[39m, \u001B[38;5;241m22\u001B[39m, \u001B[38;5;241m5\u001B[39m, \u001B[38;5;241m28\u001B[39m, \u001B[38;5;241m21\u001B[39m, \u001B[38;5;241m20\u001B[39m, \u001B[38;5;241m29\u001B[39m, \u001B[38;5;241m18\u001B[39m, \u001B[38;5;241m26\u001B[39m, \u001B[38;5;241m14\u001B[39m, \u001B[38;5;241m24\u001B[39m, \u001B[38;5;241m19\u001B[39m, \u001B[38;5;241m6\u001B[39m, \u001B[38;5;241m12\u001B[39m, \u001B[38;5;241m7\u001B[39m],\n\u001B[1;32m      4\u001B[0m     \u001B[38;5;124m'\u001B[39m\u001B[38;5;124mB\u001B[39m\u001B[38;5;124m'\u001B[39m: [\u001B[38;5;241m2\u001B[39m, \u001B[38;5;241m6\u001B[39m, \u001B[38;5;241m0\u001B[39m, \u001B[38;5;241m30\u001B[39m, \u001B[38;5;241m4\u001B[39m, \u001B[38;5;241m27\u001B[39m, \u001B[38;5;241m30\u001B[39m, \u001B[38;5;241m12\u001B[39m, \u001B[38;5;241m21\u001B[39m, \u001B[38;5;241m11\u001B[39m, \u001B[38;5;241m26\u001B[39m, \u001B[38;5;241m15\u001B[39m, \u001B[38;5;241m0\u001B[39m, \u001B[38;5;241m26\u001B[39m, \u001B[38;5;241m15\u001B[39m, \u001B[38;5;241m14\u001B[39m, \u001B[38;5;241m17\u001B[39m, \u001B[38;5;241m18\u001B[39m, \u001B[38;5;241m25\u001B[39m, \u001B[38;5;241m7\u001B[39m]\n\u001B[1;32m      5\u001B[0m }\n\u001B[1;32m      6\u001B[0m dados \u001B[38;5;241m=\u001B[39m pd\u001B[38;5;241m.\u001B[39mDataFrame\u001B[38;5;241m.\u001B[39mfrom_dict(dados_cont)\n\u001B[0;32m----> 7\u001B[0m \u001B[43mdados\u001B[49m\u001B[43m[\u001B[49m\u001B[38;5;124;43m'\u001B[39;49m\u001B[38;5;124;43mA\u001B[39;49m\u001B[38;5;124;43m'\u001B[39;49m\u001B[43m]\u001B[49m\u001B[38;5;241;43m.\u001B[39;49m\u001B[43mindex\u001B[49m\u001B[38;5;241;43m.\u001B[39;49m\u001B[43mfreq\u001B[49m\n",
      "\u001B[0;31mAttributeError\u001B[0m: 'RangeIndex' object has no attribute 'freq'"
     ]
    }
   ],
   "source": [
    "# Questão 3 (A)\n",
    "dados_cont = {\n",
    "    'A': [6, 14, 23, 24, 6, 26, 22, 5, 28, 21, 20, 29, 18, 26, 14, 24, 19, 6, 12, 7],\n",
    "    'B': [2, 6, 0, 30, 4, 27, 30, 12, 21, 11, 26, 15, 0, 26, 15, 14, 17, 18, 25, 7]\n",
    "}\n",
    "dados = pd.DataFrame.from_dict(dados_cont)\n",
    "dados['A'].index.freq"
   ],
   "metadata": {
    "collapsed": false,
    "pycharm": {
     "name": "#%%\n"
    }
   }
  },
  {
   "cell_type": "code",
   "execution_count": null,
   "outputs": [],
   "source": [],
   "metadata": {
    "collapsed": false,
    "pycharm": {
     "name": "#%%\n"
    }
   }
  }
 ],
 "metadata": {
  "kernelspec": {
   "display_name": "Python 3 (ipykernel)",
   "language": "python",
   "name": "python3"
  },
  "language_info": {
   "codemirror_mode": {
    "name": "ipython",
    "version": 3
   },
   "file_extension": ".py",
   "mimetype": "text/x-python",
   "name": "python",
   "nbconvert_exporter": "python",
   "pygments_lexer": "ipython3",
   "version": "3.10.6"
  }
 },
 "nbformat": 4,
 "nbformat_minor": 5
}