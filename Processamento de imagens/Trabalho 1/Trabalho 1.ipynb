{
 "cells": [
  {
   "cell_type": "code",
   "execution_count": null,
   "id": "9b8f3946-1c8d-4567-ad7e-ed2b47594356",
   "metadata": {},
   "outputs": [],
   "source": [
    "def direction(p1, p2, p3):\n",
    "    return (p2[0]-p1[0])*(p3[1]-p1[1]) - (p2[1] - p1[1]) * (p3[0] - p1[0])\n",
    "\n",
    "\n",
    "def is_left_turn(p1, p2, p3):\n",
    "    return direction(p1, p2, p3) > 0\n",
    "\n",
    "\n",
    "def graham_scan(points: list) -> list:\n",
    "    points.sort(key=lambda p: (p[0], p[1]))\n",
    "    l_sup = [points[0], points[1]]\n",
    "    l_inf = []\n",
    "    for i in range(2, len(points)):\n",
    "        l_sup.append(points[i])\n",
    "        while len(l_sup) > 2 and not is_left_turn(l_sup[-3], l_sup[-2], l_sup[-1]):\n",
    "            l_sup.pop(-2)\n",
    "    l_inf.append(points[-1])\n",
    "    l_inf.append(points[-2])\n",
    "    for i in range(len(points) - 3, -1, -1):\n",
    "        l_inf.append(points[i])\n",
    "        while len(l_inf) > 2 and not is_left_turn(l_inf[-3], l_inf[-2], l_inf[-1]):\n",
    "            l_inf.pop(-2)\n",
    "    l_inf.pop(0)\n",
    "    l_inf.pop(-1)\n",
    "    l_sup.pop(0)\n",
    "    l_sup.pop(-1)\n",
    "\n",
    "    return l_sup + l_inf\n",
    "\n",
    "\n",
    "def is_inside_convex_hull(convex_hull: list, p: tuple) -> bool:\n",
    "    for i in range(len(convex_hull)):\n",
    "        if not is_left_turn(convex_hull[i], convex_hull[(i + 1) % len(convex_hull)], p):\n",
    "            return False\n",
    "    return True\n",
    "\n",
    "\n",
    "def has_critical_point(points: list) -> bool:\n",
    "    convex_hull = graham_scan(points)\n",
    "    for p in points:\n",
    "        if not is_inside_convex_hull(convex_hull, p):\n",
    "            return True\n",
    "    return False\n",
    "\n",
    "\n",
    "while True:\n",
    "    n = int(input())\n",
    "    if n == 0:\n",
    "        break\n",
    "    points = [tuple(map(int, input().split())) for _ in range(n)]\n",
    "    print('Yes' if has_critical_point(points) else 'No')"
   ]
  },
  {
   "cell_type": "code",
   "execution_count": null,
   "id": "f50370d3-0613-4c91-a0f2-35898bf7b23e",
   "metadata": {},
   "outputs": [],
   "source": []
  }
 ],
 "metadata": {
  "kernelspec": {
   "display_name": "Python 3 (ipykernel)",
   "language": "python",
   "name": "python3"
  },
  "language_info": {
   "codemirror_mode": {
    "name": "ipython",
    "version": 3
   },
   "file_extension": ".py",
   "mimetype": "text/x-python",
   "name": "python",
   "nbconvert_exporter": "python",
   "pygments_lexer": "ipython3",
   "version": "3.11.8"
  }
 },
 "nbformat": 4,
 "nbformat_minor": 5
}
