{
 "cells": [
  {
   "cell_type": "markdown",
   "id": "8afbc4d7-43bf-476f-b9e3-a3358147fe7b",
   "metadata": {},
   "source": [
    "Aluno: Matheus Filipe dos Santos Reinert\n",
    "    \n",
    "![Diagrama de atividades](diagrama.png \"Diagrama de atividades\")"
   ]
  },
  {
   "cell_type": "code",
   "execution_count": null,
   "id": "2cf8d061-fc12-452a-a3eb-359327f5fffa",
   "metadata": {},
   "outputs": [],
   "source": [
    "import cv2\n",
    "import numpy as np\n",
    "import os\n",
    "\n",
    "def segmentacao_por_limiarizacao(path: str):\n",
    "    imagem = cv2.cvtColor(cv2.imread(path), cv2.COLOR_BGR2GRAY)\n",
    "    # Defocando a imagem para remover ruídos e facilitar a segmentação\n",
    "    imagem_desfocada = cv2.GaussianBlur(imagem, (5, 5), 0)\n",
    "    # Aqui calculamos o limiar T, utilizando a média, ignorando o fundo preto da imagem\n",
    "    T = np.mean(imagem_desfocada[imagem_desfocada > 0])\n",
    "    # Aplicamos a limiarização, gerando uma imagem binária, utilizando o modo cv2.THRESH_BINARY_INV\n",
    "    # conseguimos filtrar a imagem desfocada mantendo apenas os núcleos da célula\n",
    "    _, imagem_binaria = cv2.threshold(imagem_desfocada,T, 255, cv2.THRESH_BINARY_INV)\n",
    "    imagem_limiarizada = cv2.bitwise_and(imagem_desfocada, imagem_binaria)\n",
    "    # Calculamos quantas componentes conexas existem na imagem\n",
    "    numero_componentes_conexas, _ = cv2.connectedComponents(imagem_limiarizada)\n",
    "\n",
    "    # Como um label é o fundo, temos que subtrair 1 da contagem\n",
    "    return numero_componentes_conexas - 1\n"
   ]
  },
  {
   "cell_type": "code",
   "execution_count": 10,
   "id": "37dbc9d4-e3e4-46ca-9b80-f31ac2c56223",
   "metadata": {},
   "outputs": [
    {
     "name": "stdout",
     "output_type": "stream",
     "text": [
      "linfocito00.png : 1  núcleo(s)\n",
      "linfocito01.png : 2  núcleo(s)\n",
      "linfocito02.png : 2  núcleo(s)\n",
      "neutrofilo09.png: 2  núcleo(s)\n",
      "neutrofilo00.png: 2  núcleo(s)\n",
      "neutrofilo01.png: 2  núcleo(s)\n",
      "neutrofilo02.png: 2  núcleo(s)\n",
      "neutrofilo03.png: 1  núcleo(s)\n",
      "neutrofilo04.png: 1  núcleo(s)\n",
      "neutrofilo05.png: 1  núcleo(s)\n",
      "neutrofilo06.png: 2  núcleo(s)\n",
      "neutrofilo07.png: 1  núcleo(s)\n",
      "neutrofilo08.png: 2  núcleo(s)\n"
     ]
    }
   ],
   "source": [
    "for img_path in os.listdir('.'):\n",
    "    if img_path.endswith('.png'):\n",
    "        n = segmentacao_por_limiarizacao(img_path)\n",
    "        print(f'{img_path.ljust(16)}: {str(n).ljust(2)} núcleo(s)')"
   ]
  }
 ],
 "metadata": {
  "kernelspec": {
   "display_name": "Python 3 (ipykernel)",
   "language": "python",
   "name": "python3"
  },
  "language_info": {
   "codemirror_mode": {
    "name": "ipython",
    "version": 3
   },
   "file_extension": ".py",
   "mimetype": "text/x-python",
   "name": "python",
   "nbconvert_exporter": "python",
   "pygments_lexer": "ipython3",
   "version": "3.11.8"
  }
 },
 "nbformat": 4,
 "nbformat_minor": 5
}
